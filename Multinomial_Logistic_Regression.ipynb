{
  "nbformat": 4,
  "nbformat_minor": 0,
  "metadata": {
    "colab": {
      "name": "Multinomial Logistic Regression.ipynb",
      "provenance": [],
      "collapsed_sections": [],
      "authorship_tag": "ABX9TyNSSDqtw17vxvJM8ECEv138",
      "include_colab_link": true
    },
    "kernelspec": {
      "name": "python3",
      "display_name": "Python 3"
    }
  },
  "cells": [
    {
      "cell_type": "markdown",
      "metadata": {
        "id": "view-in-github",
        "colab_type": "text"
      },
      "source": [
        "<a href=\"https://colab.research.google.com/github/nabeel-gulzar/multinomial-logistic-regression/blob/main/Multinomial_Logistic_Regression.ipynb\" target=\"_parent\"><img src=\"https://colab.research.google.com/assets/colab-badge.svg\" alt=\"Open In Colab\"/></a>"
      ]
    },
    {
      "cell_type": "code",
      "metadata": {
        "id": "EyOf3ahK9T4t"
      },
      "source": [
        "# %pip install gdown\n",
        "# !gdown --id '1GbfEJ4JnTGthMs4RP5z17BrCQm6YxtEG'\n",
        "# !unzip LUMS_FALL2020_PROJECT_DATA.zip\n",
        "# !pip install python_speech_features"
      ],
      "execution_count": 3,
      "outputs": []
    },
    {
      "cell_type": "code",
      "metadata": {
        "id": "DZbhd2k79XmI"
      },
      "source": [
        "import glob\n",
        "import numpy as np\n",
        "import python_speech_features as mfcc\n",
        "from scipy.io.wavfile import read\n",
        "from pathlib import Path\n",
        "from time import time\n",
        "from sklearn import metrics\n",
        "from matplotlib import pyplot as plt\n",
        "from math import floor\n",
        "import pandas as pd"
      ],
      "execution_count": 4,
      "outputs": []
    },
    {
      "cell_type": "code",
      "metadata": {
        "id": "W2NFk5Pk9Y_j"
      },
      "source": [
        "gender_data_dir = 'Gender_Recognition/'\n",
        "speaker_data_dir = 'Speaker_Recognition/'\n",
        "valid_dir = 'Valid/'\n",
        "test_dir = 'Test/'\n",
        "train_dir = 'Train/'"
      ],
      "execution_count": 5,
      "outputs": []
    },
    {
      "cell_type": "code",
      "metadata": {
        "id": "GRd3rD3_9aW4"
      },
      "source": [
        "def get_MFCC(audio, sr):\n",
        "    features = mfcc.mfcc(audio, sr, 0.025, 0.01, 13, appendEnergy = True)\n",
        "    return np.mean(features, axis=0)"
      ],
      "execution_count": 6,
      "outputs": []
    },
    {
      "cell_type": "code",
      "metadata": {
        "id": "idfVgeS79bln"
      },
      "source": [
        "class Time(object):\n",
        "    def __init__(self, description):\n",
        "      self.description = description\n",
        "\n",
        "    def __enter__(self): \n",
        "        self.start_time = time()\n",
        "  \n",
        "    def __exit__(self, et, ev, tb):\n",
        "        print(\"Time for {}: {:.4f}\".format(self.description, time()-self.start_time))"
      ],
      "execution_count": 7,
      "outputs": []
    },
    {
      "cell_type": "markdown",
      "metadata": {
        "id": "SAJakirG9gJ9"
      },
      "source": [
        "Data Loading Functions"
      ]
    },
    {
      "cell_type": "code",
      "metadata": {
        "id": "CvWZLbwTAY-9"
      },
      "source": [
        "def load_data(directory):\n",
        "  genders = []\n",
        "  speakers = []\n",
        "  feature_matrix = []\n",
        "  for filename in glob.iglob(directory+'*/*.wav', recursive=True):\n",
        "    sr, audio = read(filename)\n",
        "    feature_vector = get_MFCC(audio, sr)\n",
        "    feature_matrix.append(feature_vector)\n",
        "    id = filename.split('/')[-2].split('_')\n",
        "    speakers.append(id[0])\n",
        "    genders.append(id[1])\n",
        "  return np.array(feature_matrix), np.array(genders), np.array(speakers)"
      ],
      "execution_count": 8,
      "outputs": []
    },
    {
      "cell_type": "markdown",
      "metadata": {
        "id": "KLGdNz_wTPKh"
      },
      "source": [
        "Data Preprocessing Functions"
      ]
    },
    {
      "cell_type": "code",
      "metadata": {
        "id": "tB0gQx8NjGSN"
      },
      "source": [
        "def one_hot(label_vector, unique_categories):\n",
        "  # convert the given label vector into a one hot encoding matrix\n",
        "  label_vector_indexed = [np.where(unique_categories == label)[0][0] for label in label_vector]\n",
        "  classes_count = unique_categories.shape[0]\n",
        "  return np.eye(classes_count, dtype=np.int8)[label_vector_indexed]\n",
        "\n",
        "def normalize(train, validation, test):\n",
        "  train_mean = train.mean(axis=0)\n",
        "  train_std = train.std(axis=0)\n",
        "  train = (train - train_mean)/train_std\n",
        "  validation = (validation - train_mean)/train_std\n",
        "  test = (test - train_mean)/train_std\n",
        "  return train, validation, test\n",
        "\n",
        "# adding feature with value 1 to ease computation\n",
        "def add_ones_feature(train, validation, test):\n",
        "  train = np.append(np.ones((train.shape[0], 1)), train, axis=1)\n",
        "  validation = np.append(np.ones((validation.shape[0], 1)), validation, axis=1)\n",
        "  test = np.append(np.ones((test.shape[0], 1)), test, axis=1)\n",
        "  return train, validation, test"
      ],
      "execution_count": 9,
      "outputs": []
    },
    {
      "cell_type": "markdown",
      "metadata": {
        "id": "4oYve7wUTf8U"
      },
      "source": [
        "Plotting Functions"
      ]
    },
    {
      "cell_type": "code",
      "metadata": {
        "id": "mTWQdKDuTfTn"
      },
      "source": [
        "def plot_cost(J, xlabel='Iteration', ylabel='Cost', title='Cost w.r.t iteration'):\n",
        "    fig, ax = plt.subplots(1, 2)\n",
        "    # resize the figure\n",
        "    fig.set_size_inches(8, 3)\n",
        "    # set title\n",
        "    fig.suptitle(title)\n",
        "    for chart_idx in range(2):\n",
        "      xvalues = [idx for idx in range(len(J[chart_idx]))]\n",
        "      ax[chart_idx].plot(xvalues, J[chart_idx], '-')"
      ],
      "execution_count": 10,
      "outputs": []
    },
    {
      "cell_type": "markdown",
      "metadata": {
        "id": "vz5wV41OTkNp"
      },
      "source": [
        "Logistic Regression Core Functions"
      ]
    },
    {
      "cell_type": "code",
      "metadata": {
        "id": "7x6s9kPITjjX"
      },
      "source": [
        "def softmax(probabilities):\n",
        "  # given a set of raw probabilities convert them into legel probabilities summing upto 1\n",
        "  exp_probabilities = np.exp(probabilities)\n",
        "  return exp_probabilities/np.sum(exp_probabilities, axis=1, keepdims=True)\n",
        "\n",
        "def predict(features, thetas, apply_softmax=True):\n",
        "  # return label_vector with sigmoid values\n",
        "  raw_scores = np.matmul(features, thetas.T)\n",
        "  if apply_softmax:\n",
        "    return softmax(raw_scores)\n",
        "  return raw_scores\n",
        "\n",
        "def compute_cost(actual_labels, softmax_probabilities):\n",
        "  # return cross entropy loss\n",
        "  return -1 * (actual_labels * np.log(softmax_probabilities)).sum() /actual_labels.shape[0]\n",
        "\n",
        "def assign_actual_labels(softmax_probabilities):\n",
        "  return np.argmax(softmax_probabilities, axis=1)"
      ],
      "execution_count": 11,
      "outputs": []
    },
    {
      "cell_type": "code",
      "metadata": {
        "id": "HIEdm2_CT7jm"
      },
      "source": [
        "# def gradient_descent(train_features, train_labels, **kw_args):\n",
        "#   # return theta_matrix with shape(C,X) where C in the number pf classes and X in the feature vector size\n",
        "#   alpha = kw_args.get('alpha', 0.05)\n",
        "#   epochs = kw_args.get('epochs', 1000)\n",
        "#   features_count = train_features.shape[1]\n",
        "#   classes_count = train_labels.shape[1]\n",
        "#   training_count = train_features.shape[0]\n",
        "#   thetas = np.zeros((classes_count, features_count))\n",
        "#   for i in range(epochs):\n",
        "#     softmax_probabilities = predict(train_features, thetas)\n",
        "#     delta =softmax_probabilities -  train_labels\n",
        "#     gradient = np.matmul(delta.T, train_features)\n",
        "#     thetas -= alpha*(gradient/training_count)\n",
        "#   return thetas\n",
        "\n",
        "def optimized_gradient_descent(train_features, train_labels, **kw_args):\n",
        "  # return theta_matrix with shape(C,X) where C in the number pf classes and X in the feature vector size\n",
        "  alpha_list = kw_args.get('alpha_list', [0.5, 0.05, 0.025, 0.01])\n",
        "  epochs_list = kw_args.get('epochs_list', [500, 1000, 1500])\n",
        "  validation_features = kw_args['validation_features']\n",
        "  validation_labels = kw_args['validation_labels']\n",
        "  features_count = train_features.shape[1]\n",
        "  classes_count = train_labels.shape[1]\n",
        "  training_count = train_features.shape[0]\n",
        "  thetas = np.zeros((classes_count, features_count))\n",
        "  optmized_thetas = None\n",
        "  optimized_alpha = None\n",
        "  optimized_epochs = None\n",
        "  min_validation_cost = 99999\n",
        "  for alpha in alpha_list:\n",
        "    for epochs in epochs_list:\n",
        "      train_iteration_costs = list()\n",
        "      validation_iteration_costs = list()\n",
        "      for i in range(epochs):\n",
        "        softmax_probabilities = predict(train_features, thetas)\n",
        "        train_cost = compute_cost(train_labels, softmax_probabilities)\n",
        "        validation_cost = compute_cost(validation_labels, predict(validation_features, thetas))\n",
        "        train_iteration_costs.append(train_cost)\n",
        "        validation_iteration_costs.append(validation_cost)\n",
        "        delta = softmax_probabilities - train_labels\n",
        "        gradient = np.matmul(delta.T, train_features)\n",
        "        thetas -= alpha*(gradient/training_count)\n",
        "      validation_cost = validation_iteration_costs[-1]\n",
        "      if kw_args.get('show_plot', True):\n",
        "        title = \"Alpha: {:.4f}, Epochs: {}, Validation Cost: {:.4f}\".format(alpha, epochs, validation_cost)\n",
        "        plot_cost([train_iteration_costs, validation_iteration_costs], title=title)\n",
        "      if validation_cost < min_validation_cost:\n",
        "        min_validation_cost = validation_cost\n",
        "        optmized_thetas = thetas\n",
        "        optimized_alpha = alpha\n",
        "        optimized_epochs = epochs\n",
        "  return optmized_thetas, optimized_alpha, optimized_epochs"
      ],
      "execution_count": 12,
      "outputs": []
    },
    {
      "cell_type": "markdown",
      "metadata": {
        "id": "qvI0Vmo6UdPp"
      },
      "source": [
        "# Gender Recognition"
      ]
    },
    {
      "cell_type": "markdown",
      "metadata": {
        "id": "L-Nx7Z4yTSi2"
      },
      "source": [
        "Data Loading"
      ]
    },
    {
      "cell_type": "code",
      "metadata": {
        "colab": {
          "base_uri": "https://localhost:8080/"
        },
        "id": "BylJQINITKUP",
        "outputId": "311903da-5ec1-4935-fbb8-9ebadec98ded"
      },
      "source": [
        "with Time(\"Loading Gender Classification Data\"):\n",
        "  train_features, train_genders, _ = load_data(gender_data_dir+train_dir)\n",
        "  validation_features, validation_genders, _ = load_data(gender_data_dir+valid_dir)\n",
        "  test_features, test_genders, _ = load_data(gender_data_dir+test_dir)"
      ],
      "execution_count": 13,
      "outputs": [
        {
          "output_type": "stream",
          "text": [
            "Time for Loading Gender Classification Data: 55.3282\n"
          ],
          "name": "stdout"
        }
      ]
    },
    {
      "cell_type": "markdown",
      "metadata": {
        "id": "-UB6pyzsTUiX"
      },
      "source": [
        "Data Preprocessing"
      ]
    },
    {
      "cell_type": "code",
      "metadata": {
        "colab": {
          "base_uri": "https://localhost:8080/"
        },
        "id": "RWjhJZyTS_TV",
        "outputId": "5b7f9fad-42fa-4052-d844-b9d53bd01d80"
      },
      "source": [
        "unique_genders = np.unique(train_genders)\n",
        "with Time(\"Converting label vectors to one-hot\"):\n",
        "  train_genders_hot = one_hot(train_genders, unique_genders)\n",
        "  validation_genders_hot = one_hot(validation_genders, unique_genders)\n",
        "  test_genders_hot = one_hot(test_genders, unique_genders)"
      ],
      "execution_count": 185,
      "outputs": [
        {
          "output_type": "stream",
          "text": [
            "Time for Converting label vectors to one-hot: 0.0253\n"
          ],
          "name": "stdout"
        }
      ]
    },
    {
      "cell_type": "code",
      "metadata": {
        "colab": {
          "base_uri": "https://localhost:8080/"
        },
        "id": "41Zmh3H1jM3D",
        "outputId": "7c00edcf-f7a9-4380-b2b9-7d256ec2c121"
      },
      "source": [
        "with Time(\"Normalizing Data\"):\n",
        "  train_features, validation_features, test_features = normalize(train_features, validation_features, test_features)"
      ],
      "execution_count": 186,
      "outputs": [
        {
          "output_type": "stream",
          "text": [
            "Time for Normalizing Data: 0.0034\n"
          ],
          "name": "stdout"
        }
      ]
    },
    {
      "cell_type": "code",
      "metadata": {
        "colab": {
          "base_uri": "https://localhost:8080/"
        },
        "id": "OwoK6vS8jxpY",
        "outputId": "69b91a50-53f4-4cbf-e683-e72d52713b1c"
      },
      "source": [
        "# adding feature with value 1 to ease computation\n",
        "with Time(\"Adding feature with vlaue 1\"):\n",
        "  train_features, validation_features, test_features = add_ones_feature(train_features, validation_features, test_features)"
      ],
      "execution_count": 187,
      "outputs": [
        {
          "output_type": "stream",
          "text": [
            "Time for Adding feature with vlaue 1: 0.0040\n"
          ],
          "name": "stdout"
        }
      ]
    },
    {
      "cell_type": "markdown",
      "metadata": {
        "id": "1td7xs5KUje3"
      },
      "source": [
        "Model Training"
      ]
    },
    {
      "cell_type": "code",
      "metadata": {
        "colab": {
          "base_uri": "https://localhost:8080/",
          "height": 1000
        },
        "id": "t0163jorMcHf",
        "outputId": "f9f05ed9-9d62-4f99-dbc2-2c4a3ff7f571"
      },
      "source": [
        "with Time(\"Running Gradient Descent\"):\n",
        "  thetas, alpha, epochs = optimized_gradient_descent(train_features=train_features,\n",
        "                                      train_labels=train_genders_hot,\n",
        "                                      validation_features=validation_features,\n",
        "                                      validation_labels=validation_genders_hot,\n",
        "                                      alpha_list=np.arange(0.001, 0.006, 0.002),\n",
        "                                      epochs_list=[1500, 7500, 10000],\n",
        "                                      show_plot=True)"
      ],
      "execution_count": 210,
      "outputs": [
        {
          "output_type": "stream",
          "text": [
            "Time for Running Gradient Descent: 14.8052\n"
          ],
          "name": "stdout"
        },
        {
          "output_type": "display_data",
          "data": {
            "image/png": "[encoded data removed]",
            "text/plain": [
              "<Figure size 576x216 with 2 Axes>"
            ]
          },
          "metadata": {
            "tags": [],
            "needs_background": "light"
          }
        },
        {
          "output_type": "display_data",
          "data": {
            "image/png": "[encoded data removed]",
            "text/plain": [
              "<Figure size 576x216 with 2 Axes>"
            ]
          },
          "metadata": {
            "tags": [],
            "needs_background": "light"
          }
        },
        {
          "output_type": "display_data",
          "data": {
            "image/png": "[encoded data removed]",
            "text/plain": [
              "<Figure size 576x216 with 2 Axes>"
            ]
          },
          "metadata": {
            "tags": [],
            "needs_background": "light"
          }
        },
        {
          "output_type": "display_data",
          "data": {
            "image/png": "[encoded data removed]",
            "text/plain": [
              "<Figure size 576x216 with 2 Axes>"
            ]
          },
          "metadata": {
            "tags": [],
            "needs_background": "light"
          }
        },
        {
          "output_type": "display_data",
          "data": {
            "image/png": "[encoded data removed]",
            "text/plain": [
              "<Figure size 576x216 with 2 Axes>"
            ]
          },
          "metadata": {
            "tags": [],
            "needs_background": "light"
          }
        },
        {
          "output_type": "display_data",
          "data": {
            "image/png": "[encoded data removed]",
            "text/plain": [
              "<Figure size 576x216 with 2 Axes>"
            ]
          },
          "metadata": {
            "tags": [],
            "needs_background": "light"
          }
        },
        {
          "output_type": "display_data",
          "data": {
            "image/png": "[encoded data removed]",
            "text/plain": [
              "<Figure size 576x216 with 2 Axes>"
            ]
          },
          "metadata": {
            "tags": [],
            "needs_background": "light"
          }
        },
        {
          "output_type": "display_data",
          "data": {
            "image/png": "[encoded data removed]",
            "text/plain": [
              "<Figure size 576x216 with 2 Axes>"
            ]
          },
          "metadata": {
            "tags": [],
            "needs_background": "light"
          }
        },
        {
          "output_type": "display_data",
          "data": {
            "image/png": "[encoded data removed]",
            "text/plain": [
              "<Figure size 576x216 with 2 Axes>"
            ]
          },
          "metadata": {
            "tags": [],
            "needs_background": "light"
          }
        }
      ]
    },
    {
      "cell_type": "markdown",
      "metadata": {
        "id": "WeTXphr1xQML"
      },
      "source": [
        "Hyperparams Found By Minimizing Validation Loss"
      ]
    },
    {
      "cell_type": "code",
      "metadata": {
        "colab": {
          "base_uri": "https://localhost:8080/"
        },
        "id": "AGDXi279xOOa",
        "outputId": "a4cc84a3-0888-4b74-e0dc-0716a3c57bc7"
      },
      "source": [
        "print(\"Alpha: {:.4f}, Epochs: {}\".format(alpha, epochs))"
      ],
      "execution_count": 211,
      "outputs": [
        {
          "output_type": "stream",
          "text": [
            "Alpha: 0.0010, Epochs: 10000\n"
          ],
          "name": "stdout"
        }
      ]
    },
    {
      "cell_type": "code",
      "metadata": {
        "id": "tn7pIMltUTA_"
      },
      "source": [
        "softmax_probabilities = predict(test_features, thetas)\n",
        "predicted_genders = assign_actual_labels(softmax_probabilities)\n",
        "actual_genders = np.vectorize(lambda x: np.where(unique_genders==x)[0][0])(test_genders)\n",
        "accuracy_score = metrics.accuracy_score(actual_genders, predicted_genders)\n",
        "unique_genders_idx = np.arange(0, unique_genders.shape[0], 1)\n",
        "confusion_matrix = metrics.confusion_matrix(actual_genders, predicted_genders, unique_genders_idx)"
      ],
      "execution_count": 212,
      "outputs": []
    },
    {
      "cell_type": "markdown",
      "metadata": {
        "id": "nc5Iu0j7PLpu"
      },
      "source": [
        "Accuracy of Gender Classifier on Test Data"
      ]
    },
    {
      "cell_type": "code",
      "metadata": {
        "colab": {
          "base_uri": "https://localhost:8080/"
        },
        "id": "8INqN0DCPBWn",
        "outputId": "cda0fc58-878b-4208-8341-237da2330b8b"
      },
      "source": [
        "print(\"Accuracy: {:.2f}% with Alpha: {:.4f}, Epochs: {}\".format(accuracy_score*100, alpha, epochs))"
      ],
      "execution_count": 213,
      "outputs": [
        {
          "output_type": "stream",
          "text": [
            "Accuracy: 85.29% with Alpha: 0.0010, Epochs: 10000\n"
          ],
          "name": "stdout"
        }
      ]
    },
    {
      "cell_type": "markdown",
      "metadata": {
        "id": "toeQ8OzAPXeC"
      },
      "source": [
        "Confusion Matrix of Gender Classifier on Test Data"
      ]
    },
    {
      "cell_type": "code",
      "metadata": {
        "colab": {
          "base_uri": "https://localhost:8080/",
          "height": 108
        },
        "id": "_uESegL3OrxF",
        "outputId": "78b71de5-4843-4a8e-b2a8-19cb919ee765"
      },
      "source": [
        "pd.DataFrame(data=confusion_matrix, columns=unique_genders, index=unique_genders)"
      ],
      "execution_count": 214,
      "outputs": [
        {
          "output_type": "execute_result",
          "data": {
            "text/html": [
              "<div>\n",
              "<style scoped>\n",
              "    .dataframe tbody tr th:only-of-type {\n",
              "        vertical-align: middle;\n",
              "    }\n",
              "\n",
              "    .dataframe tbody tr th {\n",
              "        vertical-align: top;\n",
              "    }\n",
              "\n",
              "    .dataframe thead th {\n",
              "        text-align: right;\n",
              "    }\n",
              "</style>\n",
              "<table border=\"1\" class=\"dataframe\">\n",
              "  <thead>\n",
              "    <tr style=\"text-align: right;\">\n",
              "      <th></th>\n",
              "      <th>F</th>\n",
              "      <th>M</th>\n",
              "    </tr>\n",
              "  </thead>\n",
              "  <tbody>\n",
              "    <tr>\n",
              "      <th>F</th>\n",
              "      <td>25</td>\n",
              "      <td>15</td>\n",
              "    </tr>\n",
              "    <tr>\n",
              "      <th>M</th>\n",
              "      <td>10</td>\n",
              "      <td>120</td>\n",
              "    </tr>\n",
              "  </tbody>\n",
              "</table>\n",
              "</div>"
            ],
            "text/plain": [
              "    F    M\n",
              "F  25   15\n",
              "M  10  120"
            ]
          },
          "metadata": {
            "tags": []
          },
          "execution_count": 214
        }
      ]
    },
    {
      "cell_type": "markdown",
      "metadata": {
        "id": "v2oJoWcPParK"
      },
      "source": [
        "Macro Average F1 Score of Gender Classifier on Test Data"
      ]
    },
    {
      "cell_type": "code",
      "metadata": {
        "colab": {
          "base_uri": "https://localhost:8080/"
        },
        "id": "bobnHcuwOvhK",
        "outputId": "b9847998-997d-4a34-b1a0-b3ca25a20319"
      },
      "source": [
        "classification_report_speaker = metrics.classification_report(actual_genders, predicted_genders, target_names=unique_genders, output_dict=True)\n",
        "print(\"Macro Average F1: {:.4f}\".format(classification_report_speaker['macro avg']['f1-score']))"
      ],
      "execution_count": 215,
      "outputs": [
        {
          "output_type": "stream",
          "text": [
            "Macro Average F1: 0.7862\n"
          ],
          "name": "stdout"
        }
      ]
    },
    {
      "cell_type": "markdown",
      "metadata": {
        "id": "j0QZdpGz0--y"
      },
      "source": [
        "## Speaker Recognition"
      ]
    },
    {
      "cell_type": "markdown",
      "metadata": {
        "id": "o3PNUMgQURTP"
      },
      "source": [
        "Data Loading"
      ]
    },
    {
      "cell_type": "code",
      "metadata": {
        "colab": {
          "base_uri": "https://localhost:8080/"
        },
        "id": "wsJ3VZ2u0oaq",
        "outputId": "074188ec-cb44-4b1a-9ceb-1e8eae7ff73b"
      },
      "source": [
        "with Time(\"Loading Speaker Classification Data\"):\n",
        "  train_features, _, train_speakers = load_data(speaker_data_dir+train_dir)\n",
        "  validation_features, _, validation_speakers = load_data(speaker_data_dir+valid_dir)\n",
        "  test_features, _, test_speakers = load_data(speaker_data_dir+test_dir)"
      ],
      "execution_count": 216,
      "outputs": [
        {
          "output_type": "stream",
          "text": [
            "Time for Loading Speaker Classification Data: 53.2211\n"
          ],
          "name": "stdout"
        }
      ]
    },
    {
      "cell_type": "markdown",
      "metadata": {
        "id": "MLiNPWITUUCw"
      },
      "source": [
        "Data Preprocessing"
      ]
    },
    {
      "cell_type": "code",
      "metadata": {
        "colab": {
          "base_uri": "https://localhost:8080/"
        },
        "id": "uWdHLACn1FYP",
        "outputId": "af68d272-80b4-4386-bdff-2a21df332607"
      },
      "source": [
        "unique_speakers = np.unique(train_speakers)\n",
        "with Time(\"Converting label vectors to one-hot\"):\n",
        "  train_speakers_hot = one_hot(train_speakers, unique_speakers)\n",
        "  validation_speakers_hot = one_hot(validation_speakers, unique_speakers)\n",
        "  test_speakers_hot = one_hot(test_speakers, unique_speakers)"
      ],
      "execution_count": 217,
      "outputs": [
        {
          "output_type": "stream",
          "text": [
            "Time for Converting label vectors to one-hot: 0.0098\n"
          ],
          "name": "stdout"
        }
      ]
    },
    {
      "cell_type": "code",
      "metadata": {
        "colab": {
          "base_uri": "https://localhost:8080/"
        },
        "id": "rMTIZwam1JVB",
        "outputId": "6d1f66b7-fc86-4575-bc7b-840a32b69cd5"
      },
      "source": [
        "with Time(\"Normalizing Data\"):\n",
        "  train_features, validation_features, test_features = normalize(train_features, validation_features, test_features)"
      ],
      "execution_count": 218,
      "outputs": [
        {
          "output_type": "stream",
          "text": [
            "Time for Normalizing Data: 0.0008\n"
          ],
          "name": "stdout"
        }
      ]
    },
    {
      "cell_type": "code",
      "metadata": {
        "colab": {
          "base_uri": "https://localhost:8080/"
        },
        "id": "C26Lb5En1PTm",
        "outputId": "b9fdf63a-5277-41b8-8292-9bb103293d47"
      },
      "source": [
        "# adding feature with value 1 to ease computation\n",
        "with Time(\"Adding feature with vlaue 1\"):\n",
        "  train_features, validation_features, test_features = add_ones_feature(train_features, validation_features, test_features)"
      ],
      "execution_count": 219,
      "outputs": [
        {
          "output_type": "stream",
          "text": [
            "Time for Adding feature with vlaue 1: 0.0003\n"
          ],
          "name": "stdout"
        }
      ]
    },
    {
      "cell_type": "markdown",
      "metadata": {
        "id": "7k5OjuM9Ua1O"
      },
      "source": [
        "Model Training"
      ]
    },
    {
      "cell_type": "code",
      "metadata": {
        "colab": {
          "base_uri": "https://localhost:8080/",
          "height": 899
        },
        "id": "hEICbzrw1Umi",
        "outputId": "72e0899f-ac17-4d50-be82-83aaf41afecc"
      },
      "source": [
        "with Time(\"Running Gradient Descent For Speaker Classification\"):\n",
        "  thetas, alpha, epochs = optimized_gradient_descent(train_features=train_features,\n",
        "                                      train_labels=train_speakers_hot,\n",
        "                                      validation_features=validation_features,\n",
        "                                      validation_labels=validation_speakers_hot,\n",
        "                                      alpha_list=np.arange(0.01, 0.03, 0.01),\n",
        "                                      epochs_list=[5000, 7500],\n",
        "                                      show_plot=True)"
      ],
      "execution_count": 220,
      "outputs": [
        {
          "output_type": "stream",
          "text": [
            "Time for Running Gradient Descent For Speaker Classification: 352.2334\n"
          ],
          "name": "stdout"
        },
        {
          "output_type": "display_data",
          "data": {
            "image/png": "[encoded data removed]",
            "text/plain": [
              "<Figure size 576x216 with 2 Axes>"
            ]
          },
          "metadata": {
            "tags": [],
            "needs_background": "light"
          }
        },
        {
          "output_type": "display_data",
          "data": {
            "image/png": "[encoded data removed]",
            "text/plain": [
              "<Figure size 576x216 with 2 Axes>"
            ]
          },
          "metadata": {
            "tags": [],
            "needs_background": "light"
          }
        },
        {
          "output_type": "display_data",
          "data": {
            "image/png": "[encoded data removed]",
            "text/plain": [
              "<Figure size 576x216 with 2 Axes>"
            ]
          },
          "metadata": {
            "tags": [],
            "needs_background": "light"
          }
        },
        {
          "output_type": "display_data",
          "data": {
            "image/png": "[encoded data removed]",
            "text/plain": [
              "<Figure size 576x216 with 2 Axes>"
            ]
          },
          "metadata": {
            "tags": [],
            "needs_background": "light"
          }
        }
      ]
    },
    {
      "cell_type": "markdown",
      "metadata": {
        "id": "Onf6KpfJzWgy"
      },
      "source": [
        "Hyperparams Found By Minimizing Validation Loss"
      ]
    },
    {
      "cell_type": "code",
      "metadata": {
        "colab": {
          "base_uri": "https://localhost:8080/"
        },
        "id": "exsCKlWmzeB0",
        "outputId": "853aa049-ef66-4b9c-8921-df5780a33a80"
      },
      "source": [
        "print(\"Alpha: {:.4f}, Epochs: {:d}\".format(alpha, epochs))"
      ],
      "execution_count": 221,
      "outputs": [
        {
          "output_type": "stream",
          "text": [
            "Alpha: 0.0200, Epochs: 7500\n"
          ],
          "name": "stdout"
        }
      ]
    },
    {
      "cell_type": "code",
      "metadata": {
        "id": "0vsWt0YT1XIi"
      },
      "source": [
        "softmax_probabilities = predict(test_features, thetas)\n",
        "predicted_speakers = assign_actual_labels(softmax_probabilities)\n",
        "actual_speakers = np.vectorize(lambda x: np.where(unique_speakers==x)[0][0])(test_speakers)\n",
        "accuracy_score = metrics.accuracy_score(actual_speakers, predicted_speakers)\n",
        "unique_speakers_idx = np.arange(0, unique_speakers.shape[0], 1)\n",
        "confusion_matrix = metrics.confusion_matrix(actual_speakers, predicted_speakers, unique_speakers_idx)"
      ],
      "execution_count": 223,
      "outputs": []
    },
    {
      "cell_type": "markdown",
      "metadata": {
        "id": "diREJGADP0Yg"
      },
      "source": [
        "Accuracy of Speaker Classifier on Test Data"
      ]
    },
    {
      "cell_type": "code",
      "metadata": {
        "colab": {
          "base_uri": "https://localhost:8080/"
        },
        "id": "QsFjLpSKPzuy",
        "outputId": "b8d27e9f-fedb-4eb0-ebd0-c9861f290158"
      },
      "source": [
        "print(\"Accuracy: {:.2f} with Alpha: {:.4f}, Epochs: {}\".format(accuracy_score*100, alpha, epochs))"
      ],
      "execution_count": 225,
      "outputs": [
        {
          "output_type": "stream",
          "text": [
            "Accuracy: 96.83 with Alpha: 0.0200, Epochs: 7500\n"
          ],
          "name": "stdout"
        }
      ]
    },
    {
      "cell_type": "markdown",
      "metadata": {
        "id": "SPyNWRB4P3VL"
      },
      "source": [
        "Confusion Matrix of Speaker Classifier on Test Data"
      ]
    },
    {
      "cell_type": "code",
      "metadata": {
        "colab": {
          "base_uri": "https://localhost:8080/",
          "height": 427
        },
        "id": "oS10dSvG5ctW",
        "outputId": "97ab9fb1-0804-4a28-f53e-4ac07f4c5e23"
      },
      "source": [
        "pd.DataFrame(data=confusion_matrix, columns=unique_speakers, index=unique_speakers)"
      ],
      "execution_count": 226,
      "outputs": [
        {
          "output_type": "execute_result",
          "data": {
            "text/html": [
              "<div>\n",
              "<style scoped>\n",
              "    .dataframe tbody tr th:only-of-type {\n",
              "        vertical-align: middle;\n",
              "    }\n",
              "\n",
              "    .dataframe tbody tr th {\n",
              "        vertical-align: top;\n",
              "    }\n",
              "\n",
              "    .dataframe thead th {\n",
              "        text-align: right;\n",
              "    }\n",
              "</style>\n",
              "<table border=\"1\" class=\"dataframe\">\n",
              "  <thead>\n",
              "    <tr style=\"text-align: right;\">\n",
              "      <th></th>\n",
              "      <th>SPK001</th>\n",
              "      <th>SPK002</th>\n",
              "      <th>SPK003</th>\n",
              "      <th>SPK004</th>\n",
              "      <th>SPK005</th>\n",
              "      <th>SPK006</th>\n",
              "      <th>SPK007</th>\n",
              "      <th>SPK008</th>\n",
              "      <th>SPK009</th>\n",
              "      <th>SPK010</th>\n",
              "      <th>SPK011</th>\n",
              "      <th>SPK012</th>\n",
              "      <th>SPK013</th>\n",
              "      <th>SPK014</th>\n",
              "      <th>SPK015</th>\n",
              "      <th>SPK016</th>\n",
              "      <th>SPK017</th>\n",
              "      <th>SPK018</th>\n",
              "      <th>SPK019</th>\n",
              "      <th>SPK020</th>\n",
              "      <th>SPK021</th>\n",
              "      <th>SPK022</th>\n",
              "      <th>SPK023</th>\n",
              "      <th>SPK024</th>\n",
              "      <th>SPK025</th>\n",
              "      <th>SPK026</th>\n",
              "      <th>SPK027</th>\n",
              "      <th>SPK028</th>\n",
              "      <th>SPK029</th>\n",
              "      <th>SPK030</th>\n",
              "      <th>SPK031</th>\n",
              "      <th>SPK032</th>\n",
              "      <th>SPK033</th>\n",
              "      <th>SPK034</th>\n",
              "      <th>SPK035</th>\n",
              "      <th>SPK036</th>\n",
              "      <th>SPK037</th>\n",
              "      <th>SPK038</th>\n",
              "      <th>SPK039</th>\n",
              "      <th>SPK040</th>\n",
              "      <th>...</th>\n",
              "      <th>SPK103</th>\n",
              "      <th>SPK104</th>\n",
              "      <th>SPK105</th>\n",
              "      <th>SPK106</th>\n",
              "      <th>SPK107</th>\n",
              "      <th>SPK108</th>\n",
              "      <th>SPK109</th>\n",
              "      <th>SPK110</th>\n",
              "      <th>SPK111</th>\n",
              "      <th>SPK112</th>\n",
              "      <th>SPK113</th>\n",
              "      <th>SPK114</th>\n",
              "      <th>SPK115</th>\n",
              "      <th>SPK116</th>\n",
              "      <th>SPK117</th>\n",
              "      <th>SPK118</th>\n",
              "      <th>SPK119</th>\n",
              "      <th>SPK120</th>\n",
              "      <th>SPK121</th>\n",
              "      <th>SPK122</th>\n",
              "      <th>SPK123</th>\n",
              "      <th>SPK124</th>\n",
              "      <th>SPK125</th>\n",
              "      <th>SPK126</th>\n",
              "      <th>SPK127</th>\n",
              "      <th>SPK128</th>\n",
              "      <th>SPK129</th>\n",
              "      <th>SPK130</th>\n",
              "      <th>SPK131</th>\n",
              "      <th>SPK132</th>\n",
              "      <th>SPK133</th>\n",
              "      <th>SPK134</th>\n",
              "      <th>SPK135</th>\n",
              "      <th>SPK136</th>\n",
              "      <th>SPK137</th>\n",
              "      <th>SPK138</th>\n",
              "      <th>SPK139</th>\n",
              "      <th>SPK140</th>\n",
              "      <th>SPK141</th>\n",
              "      <th>SPK142</th>\n",
              "    </tr>\n",
              "  </thead>\n",
              "  <tbody>\n",
              "    <tr>\n",
              "      <th>SPK001</th>\n",
              "      <td>2</td>\n",
              "      <td>0</td>\n",
              "      <td>0</td>\n",
              "      <td>0</td>\n",
              "      <td>0</td>\n",
              "      <td>0</td>\n",
              "      <td>0</td>\n",
              "      <td>0</td>\n",
              "      <td>0</td>\n",
              "      <td>0</td>\n",
              "      <td>0</td>\n",
              "      <td>0</td>\n",
              "      <td>0</td>\n",
              "      <td>0</td>\n",
              "      <td>0</td>\n",
              "      <td>0</td>\n",
              "      <td>0</td>\n",
              "      <td>0</td>\n",
              "      <td>0</td>\n",
              "      <td>0</td>\n",
              "      <td>0</td>\n",
              "      <td>0</td>\n",
              "      <td>0</td>\n",
              "      <td>0</td>\n",
              "      <td>0</td>\n",
              "      <td>0</td>\n",
              "      <td>0</td>\n",
              "      <td>0</td>\n",
              "      <td>0</td>\n",
              "      <td>0</td>\n",
              "      <td>0</td>\n",
              "      <td>0</td>\n",
              "      <td>0</td>\n",
              "      <td>0</td>\n",
              "      <td>0</td>\n",
              "      <td>0</td>\n",
              "      <td>0</td>\n",
              "      <td>0</td>\n",
              "      <td>0</td>\n",
              "      <td>0</td>\n",
              "      <td>...</td>\n",
              "      <td>0</td>\n",
              "      <td>0</td>\n",
              "      <td>0</td>\n",
              "      <td>0</td>\n",
              "      <td>0</td>\n",
              "      <td>0</td>\n",
              "      <td>0</td>\n",
              "      <td>0</td>\n",
              "      <td>0</td>\n",
              "      <td>0</td>\n",
              "      <td>0</td>\n",
              "      <td>0</td>\n",
              "      <td>0</td>\n",
              "      <td>0</td>\n",
              "      <td>0</td>\n",
              "      <td>0</td>\n",
              "      <td>0</td>\n",
              "      <td>0</td>\n",
              "      <td>0</td>\n",
              "      <td>0</td>\n",
              "      <td>0</td>\n",
              "      <td>0</td>\n",
              "      <td>0</td>\n",
              "      <td>0</td>\n",
              "      <td>0</td>\n",
              "      <td>0</td>\n",
              "      <td>0</td>\n",
              "      <td>0</td>\n",
              "      <td>0</td>\n",
              "      <td>0</td>\n",
              "      <td>0</td>\n",
              "      <td>0</td>\n",
              "      <td>0</td>\n",
              "      <td>0</td>\n",
              "      <td>0</td>\n",
              "      <td>0</td>\n",
              "      <td>0</td>\n",
              "      <td>0</td>\n",
              "      <td>0</td>\n",
              "      <td>0</td>\n",
              "    </tr>\n",
              "    <tr>\n",
              "      <th>SPK002</th>\n",
              "      <td>0</td>\n",
              "      <td>2</td>\n",
              "      <td>0</td>\n",
              "      <td>0</td>\n",
              "      <td>0</td>\n",
              "      <td>0</td>\n",
              "      <td>0</td>\n",
              "      <td>0</td>\n",
              "      <td>0</td>\n",
              "      <td>0</td>\n",
              "      <td>0</td>\n",
              "      <td>0</td>\n",
              "      <td>0</td>\n",
              "      <td>0</td>\n",
              "      <td>0</td>\n",
              "      <td>0</td>\n",
              "      <td>0</td>\n",
              "      <td>0</td>\n",
              "      <td>0</td>\n",
              "      <td>0</td>\n",
              "      <td>0</td>\n",
              "      <td>0</td>\n",
              "      <td>0</td>\n",
              "      <td>0</td>\n",
              "      <td>0</td>\n",
              "      <td>0</td>\n",
              "      <td>0</td>\n",
              "      <td>0</td>\n",
              "      <td>0</td>\n",
              "      <td>0</td>\n",
              "      <td>0</td>\n",
              "      <td>0</td>\n",
              "      <td>0</td>\n",
              "      <td>0</td>\n",
              "      <td>0</td>\n",
              "      <td>0</td>\n",
              "      <td>0</td>\n",
              "      <td>0</td>\n",
              "      <td>0</td>\n",
              "      <td>0</td>\n",
              "      <td>...</td>\n",
              "      <td>0</td>\n",
              "      <td>0</td>\n",
              "      <td>0</td>\n",
              "      <td>0</td>\n",
              "      <td>0</td>\n",
              "      <td>0</td>\n",
              "      <td>0</td>\n",
              "      <td>0</td>\n",
              "      <td>0</td>\n",
              "      <td>0</td>\n",
              "      <td>0</td>\n",
              "      <td>0</td>\n",
              "      <td>0</td>\n",
              "      <td>0</td>\n",
              "      <td>0</td>\n",
              "      <td>0</td>\n",
              "      <td>0</td>\n",
              "      <td>0</td>\n",
              "      <td>0</td>\n",
              "      <td>0</td>\n",
              "      <td>0</td>\n",
              "      <td>0</td>\n",
              "      <td>0</td>\n",
              "      <td>0</td>\n",
              "      <td>0</td>\n",
              "      <td>0</td>\n",
              "      <td>0</td>\n",
              "      <td>0</td>\n",
              "      <td>0</td>\n",
              "      <td>0</td>\n",
              "      <td>0</td>\n",
              "      <td>0</td>\n",
              "      <td>0</td>\n",
              "      <td>0</td>\n",
              "      <td>0</td>\n",
              "      <td>0</td>\n",
              "      <td>0</td>\n",
              "      <td>0</td>\n",
              "      <td>0</td>\n",
              "      <td>0</td>\n",
              "    </tr>\n",
              "    <tr>\n",
              "      <th>SPK003</th>\n",
              "      <td>0</td>\n",
              "      <td>0</td>\n",
              "      <td>2</td>\n",
              "      <td>0</td>\n",
              "      <td>0</td>\n",
              "      <td>0</td>\n",
              "      <td>0</td>\n",
              "      <td>0</td>\n",
              "      <td>0</td>\n",
              "      <td>0</td>\n",
              "      <td>0</td>\n",
              "      <td>0</td>\n",
              "      <td>0</td>\n",
              "      <td>0</td>\n",
              "      <td>0</td>\n",
              "      <td>0</td>\n",
              "      <td>0</td>\n",
              "      <td>0</td>\n",
              "      <td>0</td>\n",
              "      <td>0</td>\n",
              "      <td>0</td>\n",
              "      <td>0</td>\n",
              "      <td>0</td>\n",
              "      <td>0</td>\n",
              "      <td>0</td>\n",
              "      <td>0</td>\n",
              "      <td>0</td>\n",
              "      <td>0</td>\n",
              "      <td>0</td>\n",
              "      <td>0</td>\n",
              "      <td>0</td>\n",
              "      <td>0</td>\n",
              "      <td>0</td>\n",
              "      <td>0</td>\n",
              "      <td>0</td>\n",
              "      <td>0</td>\n",
              "      <td>0</td>\n",
              "      <td>0</td>\n",
              "      <td>0</td>\n",
              "      <td>0</td>\n",
              "      <td>...</td>\n",
              "      <td>0</td>\n",
              "      <td>0</td>\n",
              "      <td>0</td>\n",
              "      <td>0</td>\n",
              "      <td>0</td>\n",
              "      <td>0</td>\n",
              "      <td>0</td>\n",
              "      <td>0</td>\n",
              "      <td>0</td>\n",
              "      <td>0</td>\n",
              "      <td>0</td>\n",
              "      <td>0</td>\n",
              "      <td>0</td>\n",
              "      <td>0</td>\n",
              "      <td>0</td>\n",
              "      <td>0</td>\n",
              "      <td>0</td>\n",
              "      <td>0</td>\n",
              "      <td>0</td>\n",
              "      <td>0</td>\n",
              "      <td>0</td>\n",
              "      <td>0</td>\n",
              "      <td>0</td>\n",
              "      <td>0</td>\n",
              "      <td>0</td>\n",
              "      <td>0</td>\n",
              "      <td>0</td>\n",
              "      <td>0</td>\n",
              "      <td>0</td>\n",
              "      <td>0</td>\n",
              "      <td>0</td>\n",
              "      <td>0</td>\n",
              "      <td>0</td>\n",
              "      <td>0</td>\n",
              "      <td>0</td>\n",
              "      <td>0</td>\n",
              "      <td>0</td>\n",
              "      <td>0</td>\n",
              "      <td>0</td>\n",
              "      <td>0</td>\n",
              "    </tr>\n",
              "    <tr>\n",
              "      <th>SPK004</th>\n",
              "      <td>0</td>\n",
              "      <td>0</td>\n",
              "      <td>0</td>\n",
              "      <td>2</td>\n",
              "      <td>0</td>\n",
              "      <td>0</td>\n",
              "      <td>0</td>\n",
              "      <td>0</td>\n",
              "      <td>0</td>\n",
              "      <td>0</td>\n",
              "      <td>0</td>\n",
              "      <td>0</td>\n",
              "      <td>0</td>\n",
              "      <td>0</td>\n",
              "      <td>0</td>\n",
              "      <td>0</td>\n",
              "      <td>0</td>\n",
              "      <td>0</td>\n",
              "      <td>0</td>\n",
              "      <td>0</td>\n",
              "      <td>0</td>\n",
              "      <td>0</td>\n",
              "      <td>0</td>\n",
              "      <td>0</td>\n",
              "      <td>0</td>\n",
              "      <td>0</td>\n",
              "      <td>0</td>\n",
              "      <td>0</td>\n",
              "      <td>0</td>\n",
              "      <td>0</td>\n",
              "      <td>0</td>\n",
              "      <td>0</td>\n",
              "      <td>0</td>\n",
              "      <td>0</td>\n",
              "      <td>0</td>\n",
              "      <td>0</td>\n",
              "      <td>0</td>\n",
              "      <td>0</td>\n",
              "      <td>0</td>\n",
              "      <td>0</td>\n",
              "      <td>...</td>\n",
              "      <td>0</td>\n",
              "      <td>0</td>\n",
              "      <td>0</td>\n",
              "      <td>0</td>\n",
              "      <td>0</td>\n",
              "      <td>0</td>\n",
              "      <td>0</td>\n",
              "      <td>0</td>\n",
              "      <td>0</td>\n",
              "      <td>0</td>\n",
              "      <td>0</td>\n",
              "      <td>0</td>\n",
              "      <td>0</td>\n",
              "      <td>0</td>\n",
              "      <td>0</td>\n",
              "      <td>0</td>\n",
              "      <td>0</td>\n",
              "      <td>0</td>\n",
              "      <td>0</td>\n",
              "      <td>0</td>\n",
              "      <td>0</td>\n",
              "      <td>0</td>\n",
              "      <td>0</td>\n",
              "      <td>0</td>\n",
              "      <td>0</td>\n",
              "      <td>0</td>\n",
              "      <td>0</td>\n",
              "      <td>0</td>\n",
              "      <td>0</td>\n",
              "      <td>0</td>\n",
              "      <td>0</td>\n",
              "      <td>0</td>\n",
              "      <td>0</td>\n",
              "      <td>0</td>\n",
              "      <td>0</td>\n",
              "      <td>0</td>\n",
              "      <td>0</td>\n",
              "      <td>0</td>\n",
              "      <td>0</td>\n",
              "      <td>0</td>\n",
              "    </tr>\n",
              "    <tr>\n",
              "      <th>SPK005</th>\n",
              "      <td>0</td>\n",
              "      <td>0</td>\n",
              "      <td>0</td>\n",
              "      <td>0</td>\n",
              "      <td>2</td>\n",
              "      <td>0</td>\n",
              "      <td>0</td>\n",
              "      <td>0</td>\n",
              "      <td>0</td>\n",
              "      <td>0</td>\n",
              "      <td>0</td>\n",
              "      <td>0</td>\n",
              "      <td>0</td>\n",
              "      <td>0</td>\n",
              "      <td>0</td>\n",
              "      <td>0</td>\n",
              "      <td>0</td>\n",
              "      <td>0</td>\n",
              "      <td>0</td>\n",
              "      <td>0</td>\n",
              "      <td>0</td>\n",
              "      <td>0</td>\n",
              "      <td>0</td>\n",
              "      <td>0</td>\n",
              "      <td>0</td>\n",
              "      <td>0</td>\n",
              "      <td>0</td>\n",
              "      <td>0</td>\n",
              "      <td>0</td>\n",
              "      <td>0</td>\n",
              "      <td>0</td>\n",
              "      <td>0</td>\n",
              "      <td>0</td>\n",
              "      <td>0</td>\n",
              "      <td>0</td>\n",
              "      <td>0</td>\n",
              "      <td>0</td>\n",
              "      <td>0</td>\n",
              "      <td>0</td>\n",
              "      <td>0</td>\n",
              "      <td>...</td>\n",
              "      <td>0</td>\n",
              "      <td>0</td>\n",
              "      <td>0</td>\n",
              "      <td>0</td>\n",
              "      <td>0</td>\n",
              "      <td>0</td>\n",
              "      <td>0</td>\n",
              "      <td>0</td>\n",
              "      <td>0</td>\n",
              "      <td>0</td>\n",
              "      <td>0</td>\n",
              "      <td>0</td>\n",
              "      <td>0</td>\n",
              "      <td>0</td>\n",
              "      <td>0</td>\n",
              "      <td>0</td>\n",
              "      <td>0</td>\n",
              "      <td>0</td>\n",
              "      <td>0</td>\n",
              "      <td>0</td>\n",
              "      <td>0</td>\n",
              "      <td>0</td>\n",
              "      <td>0</td>\n",
              "      <td>0</td>\n",
              "      <td>0</td>\n",
              "      <td>0</td>\n",
              "      <td>0</td>\n",
              "      <td>0</td>\n",
              "      <td>0</td>\n",
              "      <td>0</td>\n",
              "      <td>0</td>\n",
              "      <td>0</td>\n",
              "      <td>0</td>\n",
              "      <td>0</td>\n",
              "      <td>0</td>\n",
              "      <td>0</td>\n",
              "      <td>0</td>\n",
              "      <td>0</td>\n",
              "      <td>0</td>\n",
              "      <td>0</td>\n",
              "    </tr>\n",
              "    <tr>\n",
              "      <th>...</th>\n",
              "      <td>...</td>\n",
              "      <td>...</td>\n",
              "      <td>...</td>\n",
              "      <td>...</td>\n",
              "      <td>...</td>\n",
              "      <td>...</td>\n",
              "      <td>...</td>\n",
              "      <td>...</td>\n",
              "      <td>...</td>\n",
              "      <td>...</td>\n",
              "      <td>...</td>\n",
              "      <td>...</td>\n",
              "      <td>...</td>\n",
              "      <td>...</td>\n",
              "      <td>...</td>\n",
              "      <td>...</td>\n",
              "      <td>...</td>\n",
              "      <td>...</td>\n",
              "      <td>...</td>\n",
              "      <td>...</td>\n",
              "      <td>...</td>\n",
              "      <td>...</td>\n",
              "      <td>...</td>\n",
              "      <td>...</td>\n",
              "      <td>...</td>\n",
              "      <td>...</td>\n",
              "      <td>...</td>\n",
              "      <td>...</td>\n",
              "      <td>...</td>\n",
              "      <td>...</td>\n",
              "      <td>...</td>\n",
              "      <td>...</td>\n",
              "      <td>...</td>\n",
              "      <td>...</td>\n",
              "      <td>...</td>\n",
              "      <td>...</td>\n",
              "      <td>...</td>\n",
              "      <td>...</td>\n",
              "      <td>...</td>\n",
              "      <td>...</td>\n",
              "      <td>...</td>\n",
              "      <td>...</td>\n",
              "      <td>...</td>\n",
              "      <td>...</td>\n",
              "      <td>...</td>\n",
              "      <td>...</td>\n",
              "      <td>...</td>\n",
              "      <td>...</td>\n",
              "      <td>...</td>\n",
              "      <td>...</td>\n",
              "      <td>...</td>\n",
              "      <td>...</td>\n",
              "      <td>...</td>\n",
              "      <td>...</td>\n",
              "      <td>...</td>\n",
              "      <td>...</td>\n",
              "      <td>...</td>\n",
              "      <td>...</td>\n",
              "      <td>...</td>\n",
              "      <td>...</td>\n",
              "      <td>...</td>\n",
              "      <td>...</td>\n",
              "      <td>...</td>\n",
              "      <td>...</td>\n",
              "      <td>...</td>\n",
              "      <td>...</td>\n",
              "      <td>...</td>\n",
              "      <td>...</td>\n",
              "      <td>...</td>\n",
              "      <td>...</td>\n",
              "      <td>...</td>\n",
              "      <td>...</td>\n",
              "      <td>...</td>\n",
              "      <td>...</td>\n",
              "      <td>...</td>\n",
              "      <td>...</td>\n",
              "      <td>...</td>\n",
              "      <td>...</td>\n",
              "      <td>...</td>\n",
              "      <td>...</td>\n",
              "      <td>...</td>\n",
              "    </tr>\n",
              "    <tr>\n",
              "      <th>SPK138</th>\n",
              "      <td>0</td>\n",
              "      <td>0</td>\n",
              "      <td>0</td>\n",
              "      <td>0</td>\n",
              "      <td>0</td>\n",
              "      <td>0</td>\n",
              "      <td>0</td>\n",
              "      <td>0</td>\n",
              "      <td>0</td>\n",
              "      <td>0</td>\n",
              "      <td>0</td>\n",
              "      <td>0</td>\n",
              "      <td>0</td>\n",
              "      <td>0</td>\n",
              "      <td>0</td>\n",
              "      <td>0</td>\n",
              "      <td>0</td>\n",
              "      <td>0</td>\n",
              "      <td>0</td>\n",
              "      <td>0</td>\n",
              "      <td>0</td>\n",
              "      <td>0</td>\n",
              "      <td>0</td>\n",
              "      <td>0</td>\n",
              "      <td>0</td>\n",
              "      <td>0</td>\n",
              "      <td>0</td>\n",
              "      <td>0</td>\n",
              "      <td>0</td>\n",
              "      <td>0</td>\n",
              "      <td>0</td>\n",
              "      <td>0</td>\n",
              "      <td>0</td>\n",
              "      <td>0</td>\n",
              "      <td>0</td>\n",
              "      <td>0</td>\n",
              "      <td>0</td>\n",
              "      <td>0</td>\n",
              "      <td>0</td>\n",
              "      <td>0</td>\n",
              "      <td>...</td>\n",
              "      <td>0</td>\n",
              "      <td>0</td>\n",
              "      <td>0</td>\n",
              "      <td>0</td>\n",
              "      <td>0</td>\n",
              "      <td>0</td>\n",
              "      <td>0</td>\n",
              "      <td>0</td>\n",
              "      <td>0</td>\n",
              "      <td>0</td>\n",
              "      <td>0</td>\n",
              "      <td>0</td>\n",
              "      <td>0</td>\n",
              "      <td>0</td>\n",
              "      <td>0</td>\n",
              "      <td>0</td>\n",
              "      <td>0</td>\n",
              "      <td>0</td>\n",
              "      <td>0</td>\n",
              "      <td>0</td>\n",
              "      <td>0</td>\n",
              "      <td>0</td>\n",
              "      <td>0</td>\n",
              "      <td>0</td>\n",
              "      <td>0</td>\n",
              "      <td>0</td>\n",
              "      <td>0</td>\n",
              "      <td>0</td>\n",
              "      <td>0</td>\n",
              "      <td>0</td>\n",
              "      <td>0</td>\n",
              "      <td>0</td>\n",
              "      <td>0</td>\n",
              "      <td>0</td>\n",
              "      <td>0</td>\n",
              "      <td>2</td>\n",
              "      <td>0</td>\n",
              "      <td>0</td>\n",
              "      <td>0</td>\n",
              "      <td>0</td>\n",
              "    </tr>\n",
              "    <tr>\n",
              "      <th>SPK139</th>\n",
              "      <td>0</td>\n",
              "      <td>0</td>\n",
              "      <td>0</td>\n",
              "      <td>0</td>\n",
              "      <td>0</td>\n",
              "      <td>0</td>\n",
              "      <td>0</td>\n",
              "      <td>0</td>\n",
              "      <td>0</td>\n",
              "      <td>0</td>\n",
              "      <td>0</td>\n",
              "      <td>0</td>\n",
              "      <td>0</td>\n",
              "      <td>0</td>\n",
              "      <td>0</td>\n",
              "      <td>0</td>\n",
              "      <td>0</td>\n",
              "      <td>0</td>\n",
              "      <td>0</td>\n",
              "      <td>0</td>\n",
              "      <td>0</td>\n",
              "      <td>0</td>\n",
              "      <td>0</td>\n",
              "      <td>0</td>\n",
              "      <td>0</td>\n",
              "      <td>0</td>\n",
              "      <td>0</td>\n",
              "      <td>0</td>\n",
              "      <td>0</td>\n",
              "      <td>0</td>\n",
              "      <td>0</td>\n",
              "      <td>0</td>\n",
              "      <td>0</td>\n",
              "      <td>0</td>\n",
              "      <td>0</td>\n",
              "      <td>0</td>\n",
              "      <td>0</td>\n",
              "      <td>0</td>\n",
              "      <td>0</td>\n",
              "      <td>0</td>\n",
              "      <td>...</td>\n",
              "      <td>0</td>\n",
              "      <td>0</td>\n",
              "      <td>0</td>\n",
              "      <td>0</td>\n",
              "      <td>0</td>\n",
              "      <td>0</td>\n",
              "      <td>0</td>\n",
              "      <td>0</td>\n",
              "      <td>0</td>\n",
              "      <td>0</td>\n",
              "      <td>0</td>\n",
              "      <td>0</td>\n",
              "      <td>0</td>\n",
              "      <td>0</td>\n",
              "      <td>0</td>\n",
              "      <td>0</td>\n",
              "      <td>0</td>\n",
              "      <td>0</td>\n",
              "      <td>0</td>\n",
              "      <td>0</td>\n",
              "      <td>0</td>\n",
              "      <td>0</td>\n",
              "      <td>0</td>\n",
              "      <td>0</td>\n",
              "      <td>0</td>\n",
              "      <td>0</td>\n",
              "      <td>0</td>\n",
              "      <td>0</td>\n",
              "      <td>0</td>\n",
              "      <td>0</td>\n",
              "      <td>0</td>\n",
              "      <td>0</td>\n",
              "      <td>0</td>\n",
              "      <td>0</td>\n",
              "      <td>0</td>\n",
              "      <td>0</td>\n",
              "      <td>2</td>\n",
              "      <td>0</td>\n",
              "      <td>0</td>\n",
              "      <td>0</td>\n",
              "    </tr>\n",
              "    <tr>\n",
              "      <th>SPK140</th>\n",
              "      <td>0</td>\n",
              "      <td>0</td>\n",
              "      <td>0</td>\n",
              "      <td>0</td>\n",
              "      <td>0</td>\n",
              "      <td>0</td>\n",
              "      <td>0</td>\n",
              "      <td>0</td>\n",
              "      <td>0</td>\n",
              "      <td>0</td>\n",
              "      <td>0</td>\n",
              "      <td>0</td>\n",
              "      <td>0</td>\n",
              "      <td>0</td>\n",
              "      <td>0</td>\n",
              "      <td>0</td>\n",
              "      <td>0</td>\n",
              "      <td>0</td>\n",
              "      <td>0</td>\n",
              "      <td>0</td>\n",
              "      <td>0</td>\n",
              "      <td>0</td>\n",
              "      <td>0</td>\n",
              "      <td>0</td>\n",
              "      <td>0</td>\n",
              "      <td>0</td>\n",
              "      <td>0</td>\n",
              "      <td>0</td>\n",
              "      <td>0</td>\n",
              "      <td>0</td>\n",
              "      <td>0</td>\n",
              "      <td>0</td>\n",
              "      <td>0</td>\n",
              "      <td>0</td>\n",
              "      <td>0</td>\n",
              "      <td>0</td>\n",
              "      <td>0</td>\n",
              "      <td>0</td>\n",
              "      <td>0</td>\n",
              "      <td>0</td>\n",
              "      <td>...</td>\n",
              "      <td>0</td>\n",
              "      <td>0</td>\n",
              "      <td>0</td>\n",
              "      <td>0</td>\n",
              "      <td>0</td>\n",
              "      <td>0</td>\n",
              "      <td>0</td>\n",
              "      <td>0</td>\n",
              "      <td>0</td>\n",
              "      <td>0</td>\n",
              "      <td>0</td>\n",
              "      <td>0</td>\n",
              "      <td>0</td>\n",
              "      <td>0</td>\n",
              "      <td>0</td>\n",
              "      <td>0</td>\n",
              "      <td>0</td>\n",
              "      <td>0</td>\n",
              "      <td>0</td>\n",
              "      <td>0</td>\n",
              "      <td>0</td>\n",
              "      <td>0</td>\n",
              "      <td>0</td>\n",
              "      <td>0</td>\n",
              "      <td>0</td>\n",
              "      <td>0</td>\n",
              "      <td>0</td>\n",
              "      <td>0</td>\n",
              "      <td>0</td>\n",
              "      <td>0</td>\n",
              "      <td>0</td>\n",
              "      <td>0</td>\n",
              "      <td>0</td>\n",
              "      <td>0</td>\n",
              "      <td>0</td>\n",
              "      <td>0</td>\n",
              "      <td>0</td>\n",
              "      <td>2</td>\n",
              "      <td>0</td>\n",
              "      <td>0</td>\n",
              "    </tr>\n",
              "    <tr>\n",
              "      <th>SPK141</th>\n",
              "      <td>0</td>\n",
              "      <td>0</td>\n",
              "      <td>0</td>\n",
              "      <td>0</td>\n",
              "      <td>0</td>\n",
              "      <td>0</td>\n",
              "      <td>0</td>\n",
              "      <td>0</td>\n",
              "      <td>0</td>\n",
              "      <td>0</td>\n",
              "      <td>0</td>\n",
              "      <td>0</td>\n",
              "      <td>0</td>\n",
              "      <td>0</td>\n",
              "      <td>0</td>\n",
              "      <td>0</td>\n",
              "      <td>0</td>\n",
              "      <td>0</td>\n",
              "      <td>0</td>\n",
              "      <td>0</td>\n",
              "      <td>0</td>\n",
              "      <td>0</td>\n",
              "      <td>0</td>\n",
              "      <td>0</td>\n",
              "      <td>0</td>\n",
              "      <td>0</td>\n",
              "      <td>0</td>\n",
              "      <td>0</td>\n",
              "      <td>0</td>\n",
              "      <td>0</td>\n",
              "      <td>0</td>\n",
              "      <td>0</td>\n",
              "      <td>0</td>\n",
              "      <td>0</td>\n",
              "      <td>0</td>\n",
              "      <td>0</td>\n",
              "      <td>0</td>\n",
              "      <td>0</td>\n",
              "      <td>0</td>\n",
              "      <td>0</td>\n",
              "      <td>...</td>\n",
              "      <td>0</td>\n",
              "      <td>0</td>\n",
              "      <td>0</td>\n",
              "      <td>0</td>\n",
              "      <td>0</td>\n",
              "      <td>0</td>\n",
              "      <td>0</td>\n",
              "      <td>0</td>\n",
              "      <td>0</td>\n",
              "      <td>0</td>\n",
              "      <td>0</td>\n",
              "      <td>0</td>\n",
              "      <td>0</td>\n",
              "      <td>0</td>\n",
              "      <td>0</td>\n",
              "      <td>0</td>\n",
              "      <td>0</td>\n",
              "      <td>0</td>\n",
              "      <td>0</td>\n",
              "      <td>0</td>\n",
              "      <td>0</td>\n",
              "      <td>0</td>\n",
              "      <td>0</td>\n",
              "      <td>0</td>\n",
              "      <td>0</td>\n",
              "      <td>0</td>\n",
              "      <td>0</td>\n",
              "      <td>0</td>\n",
              "      <td>0</td>\n",
              "      <td>0</td>\n",
              "      <td>0</td>\n",
              "      <td>0</td>\n",
              "      <td>0</td>\n",
              "      <td>0</td>\n",
              "      <td>0</td>\n",
              "      <td>0</td>\n",
              "      <td>0</td>\n",
              "      <td>0</td>\n",
              "      <td>2</td>\n",
              "      <td>0</td>\n",
              "    </tr>\n",
              "    <tr>\n",
              "      <th>SPK142</th>\n",
              "      <td>0</td>\n",
              "      <td>0</td>\n",
              "      <td>0</td>\n",
              "      <td>0</td>\n",
              "      <td>0</td>\n",
              "      <td>0</td>\n",
              "      <td>0</td>\n",
              "      <td>0</td>\n",
              "      <td>0</td>\n",
              "      <td>0</td>\n",
              "      <td>0</td>\n",
              "      <td>0</td>\n",
              "      <td>0</td>\n",
              "      <td>0</td>\n",
              "      <td>0</td>\n",
              "      <td>0</td>\n",
              "      <td>0</td>\n",
              "      <td>0</td>\n",
              "      <td>0</td>\n",
              "      <td>0</td>\n",
              "      <td>0</td>\n",
              "      <td>0</td>\n",
              "      <td>0</td>\n",
              "      <td>0</td>\n",
              "      <td>0</td>\n",
              "      <td>0</td>\n",
              "      <td>0</td>\n",
              "      <td>0</td>\n",
              "      <td>0</td>\n",
              "      <td>0</td>\n",
              "      <td>0</td>\n",
              "      <td>0</td>\n",
              "      <td>0</td>\n",
              "      <td>0</td>\n",
              "      <td>0</td>\n",
              "      <td>0</td>\n",
              "      <td>0</td>\n",
              "      <td>0</td>\n",
              "      <td>0</td>\n",
              "      <td>0</td>\n",
              "      <td>...</td>\n",
              "      <td>0</td>\n",
              "      <td>0</td>\n",
              "      <td>0</td>\n",
              "      <td>0</td>\n",
              "      <td>0</td>\n",
              "      <td>0</td>\n",
              "      <td>0</td>\n",
              "      <td>0</td>\n",
              "      <td>0</td>\n",
              "      <td>0</td>\n",
              "      <td>0</td>\n",
              "      <td>0</td>\n",
              "      <td>0</td>\n",
              "      <td>0</td>\n",
              "      <td>0</td>\n",
              "      <td>0</td>\n",
              "      <td>0</td>\n",
              "      <td>0</td>\n",
              "      <td>0</td>\n",
              "      <td>0</td>\n",
              "      <td>0</td>\n",
              "      <td>0</td>\n",
              "      <td>0</td>\n",
              "      <td>0</td>\n",
              "      <td>0</td>\n",
              "      <td>0</td>\n",
              "      <td>0</td>\n",
              "      <td>0</td>\n",
              "      <td>0</td>\n",
              "      <td>0</td>\n",
              "      <td>0</td>\n",
              "      <td>0</td>\n",
              "      <td>0</td>\n",
              "      <td>0</td>\n",
              "      <td>0</td>\n",
              "      <td>0</td>\n",
              "      <td>0</td>\n",
              "      <td>0</td>\n",
              "      <td>0</td>\n",
              "      <td>2</td>\n",
              "    </tr>\n",
              "  </tbody>\n",
              "</table>\n",
              "<p>142 rows × 142 columns</p>\n",
              "</div>"
            ],
            "text/plain": [
              "        SPK001  SPK002  SPK003  SPK004  ...  SPK139  SPK140  SPK141  SPK142\n",
              "SPK001       2       0       0       0  ...       0       0       0       0\n",
              "SPK002       0       2       0       0  ...       0       0       0       0\n",
              "SPK003       0       0       2       0  ...       0       0       0       0\n",
              "SPK004       0       0       0       2  ...       0       0       0       0\n",
              "SPK005       0       0       0       0  ...       0       0       0       0\n",
              "...        ...     ...     ...     ...  ...     ...     ...     ...     ...\n",
              "SPK138       0       0       0       0  ...       0       0       0       0\n",
              "SPK139       0       0       0       0  ...       2       0       0       0\n",
              "SPK140       0       0       0       0  ...       0       2       0       0\n",
              "SPK141       0       0       0       0  ...       0       0       2       0\n",
              "SPK142       0       0       0       0  ...       0       0       0       2\n",
              "\n",
              "[142 rows x 142 columns]"
            ]
          },
          "metadata": {
            "tags": []
          },
          "execution_count": 226
        }
      ]
    },
    {
      "cell_type": "markdown",
      "metadata": {
        "id": "nz12O9o7P97Q"
      },
      "source": [
        "Macro Average F1 Score of Speaker Classifier on Test Data"
      ]
    },
    {
      "cell_type": "code",
      "metadata": {
        "colab": {
          "base_uri": "https://localhost:8080/"
        },
        "id": "6ubUbLPvP-RR",
        "outputId": "42e11309-f896-4ae8-8547-51e3338b2df4"
      },
      "source": [
        "classification_report_speaker = metrics.classification_report(actual_speakers, predicted_speakers, target_names=unique_speakers, output_dict=True)\n",
        "print(\"Macro Average F1: {:.4f}\".format(classification_report_speaker['macro avg']['f1-score']))"
      ],
      "execution_count": 227,
      "outputs": [
        {
          "output_type": "stream",
          "text": [
            "Macro Average F1: 0.9664\n"
          ],
          "name": "stdout"
        }
      ]
    },
    {
      "cell_type": "code",
      "metadata": {
        "id": "Bg_6RhEJVDen"
      },
      "source": [
        "tf, tg, ts = load_data(gender_data_dir+train_dir)"
      ],
      "execution_count": 17,
      "outputs": []
    },
    {
      "cell_type": "code",
      "metadata": {
        "colab": {
          "base_uri": "https://localhost:8080/"
        },
        "id": "VA1SXeKRVGPo",
        "outputId": "4f7f06f0-ef3c-4ae7-afd4-930024ab32d6"
      },
      "source": [
        "tg[:30]"
      ],
      "execution_count": 18,
      "outputs": [
        {
          "output_type": "execute_result",
          "data": {
            "text/plain": [
              "array(['F', 'F', 'F', 'F', 'F', 'F', 'F', 'F', 'F', 'F', 'M', 'M', 'M',\n",
              "       'M', 'M', 'M', 'M', 'M', 'M', 'M', 'M', 'M', 'M', 'M', 'M', 'M',\n",
              "       'M', 'M', 'M', 'M'], dtype='<U1')"
            ]
          },
          "metadata": {
            "tags": []
          },
          "execution_count": 18
        }
      ]
    },
    {
      "cell_type": "code",
      "metadata": {
        "colab": {
          "base_uri": "https://localhost:8080/"
        },
        "id": "S-4auIbQVMoR",
        "outputId": "5f690b6f-c728-424b-85b8-ba8f5aed89a0"
      },
      "source": [
        "ts[:30]"
      ],
      "execution_count": 19,
      "outputs": [
        {
          "output_type": "execute_result",
          "data": {
            "text/plain": [
              "array(['SPK116', 'SPK116', 'SPK116', 'SPK116', 'SPK116', 'SPK116',\n",
              "       'SPK116', 'SPK116', 'SPK116', 'SPK116', 'SPK065', 'SPK065',\n",
              "       'SPK065', 'SPK065', 'SPK065', 'SPK065', 'SPK065', 'SPK065',\n",
              "       'SPK065', 'SPK065', 'SPK073', 'SPK073', 'SPK073', 'SPK073',\n",
              "       'SPK073', 'SPK073', 'SPK073', 'SPK073', 'SPK073', 'SPK073'],\n",
              "      dtype='<U6')"
            ]
          },
          "metadata": {
            "tags": []
          },
          "execution_count": 19
        }
      ]
    },
    {
      "cell_type": "code",
      "metadata": {
        "id": "E6mfyfwYVRfK"
      },
      "source": [
        ""
      ],
      "execution_count": null,
      "outputs": []
    }
  ]
}